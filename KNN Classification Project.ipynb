{
 "cells": [
  {
   "cell_type": "markdown",
   "id": "30c074b3",
   "metadata": {},
   "source": [
    "# <center><b>Drug Classification with KNN Algorithm <b><center>"
   ]
  },
  {
   "cell_type": "markdown",
   "id": "0850b78c",
   "metadata": {},
   "source": [
    "-----\n",
    "## **Contents**\n",
    "-----\n",
    "**1.** [**Problem Statement**](#section1)<br>\n",
    "**2.** [**Importing necessary Libraries**](#section2)<br>\n",
    "**3.** [**Data loading and description**](#section3)<br>\n",
    "**4.** [**Exploratory Data Analysis**](#section4)<br>\n",
    "**5.** [**Model Development and Evaluation**](#section5)<br>\n",
    "**6.** [**Hyperparameter Tuning**](#section6)<br>\n",
    "**7.** [**Conclusion**](#section7)<br>\n"
   ]
  },
  {
   "cell_type": "markdown",
   "id": "a69f7303",
   "metadata": {},
   "source": [
    "---\n",
    "<a name = Section1></a>\n",
    "### **1.** Problem Statement\n",
    "---\n",
    "\n",
    " - The task is to predict the outcome of drug that might be accurate for the patient given the **Age**, **Sex**, **BP**, **Cholesterol** and **Na_to_K** Variables."
   ]
  },
  {
   "cell_type": "markdown",
   "id": "f17aa46f",
   "metadata": {},
   "source": [
    "---\n",
    "<a name = Section2></a>\n",
    "### 2. Importing necessary Libraries\n",
    "---\n"
   ]
  },
  {
   "cell_type": "code",
   "execution_count": 1,
   "id": "57d1837b",
   "metadata": {},
   "outputs": [],
   "source": [
    "import numpy as np\n",
    "import pandas as pd\n",
    "import matplotlib.pyplot as plt\n",
    "%matplotlib inline\n",
    "import seaborn as sns\n",
    "\n",
    "import warnings\n",
    "warnings.filterwarnings('ignore')"
   ]
  },
  {
   "cell_type": "markdown",
   "id": "e6936bf2",
   "metadata": {},
   "source": [
    "---\n",
    "<a name = Section3></a>\n",
    "### 3. Data loading and description\n",
    "---"
   ]
  },
  {
   "cell_type": "markdown",
   "id": "0793e9bb",
   "metadata": {},
   "source": [
    "| ID | Feature Name | Description of the feature |\n",
    "| :-- | :--| :--| \n",
    "|01| **Age**   | Age of the patient |\n",
    "|02| **Sex**      | Gender of patient|\n",
    "|03| **BP**        | Blood Pressure level of patient|\n",
    "|04| **Cholesterol**          | Cholesterol level of patient|\n",
    "|05| **Na_to_K**           | Sodium to Potassium ration|\n",
    "|06| **Drug**           | Drugs for patient. Five types of drugs. DrugA, DrugB, DrugC,DrugX, DrugY |                           "
   ]
  },
  {
   "cell_type": "code",
   "execution_count": 2,
   "id": "2a28c9c1",
   "metadata": {},
   "outputs": [
    {
     "data": {
      "text/html": [
       "<div>\n",
       "<style scoped>\n",
       "    .dataframe tbody tr th:only-of-type {\n",
       "        vertical-align: middle;\n",
       "    }\n",
       "\n",
       "    .dataframe tbody tr th {\n",
       "        vertical-align: top;\n",
       "    }\n",
       "\n",
       "    .dataframe thead th {\n",
       "        text-align: right;\n",
       "    }\n",
       "</style>\n",
       "<table border=\"1\" class=\"dataframe\">\n",
       "  <thead>\n",
       "    <tr style=\"text-align: right;\">\n",
       "      <th></th>\n",
       "      <th>Age</th>\n",
       "      <th>Sex</th>\n",
       "      <th>BP</th>\n",
       "      <th>Cholesterol</th>\n",
       "      <th>Na_to_K</th>\n",
       "      <th>Drug</th>\n",
       "    </tr>\n",
       "  </thead>\n",
       "  <tbody>\n",
       "    <tr>\n",
       "      <th>0</th>\n",
       "      <td>23</td>\n",
       "      <td>F</td>\n",
       "      <td>HIGH</td>\n",
       "      <td>HIGH</td>\n",
       "      <td>25.355</td>\n",
       "      <td>DrugY</td>\n",
       "    </tr>\n",
       "    <tr>\n",
       "      <th>1</th>\n",
       "      <td>47</td>\n",
       "      <td>M</td>\n",
       "      <td>LOW</td>\n",
       "      <td>HIGH</td>\n",
       "      <td>13.093</td>\n",
       "      <td>drugC</td>\n",
       "    </tr>\n",
       "    <tr>\n",
       "      <th>2</th>\n",
       "      <td>47</td>\n",
       "      <td>M</td>\n",
       "      <td>LOW</td>\n",
       "      <td>HIGH</td>\n",
       "      <td>10.114</td>\n",
       "      <td>drugC</td>\n",
       "    </tr>\n",
       "    <tr>\n",
       "      <th>3</th>\n",
       "      <td>28</td>\n",
       "      <td>F</td>\n",
       "      <td>NORMAL</td>\n",
       "      <td>HIGH</td>\n",
       "      <td>7.798</td>\n",
       "      <td>drugX</td>\n",
       "    </tr>\n",
       "    <tr>\n",
       "      <th>4</th>\n",
       "      <td>61</td>\n",
       "      <td>F</td>\n",
       "      <td>LOW</td>\n",
       "      <td>HIGH</td>\n",
       "      <td>18.043</td>\n",
       "      <td>DrugY</td>\n",
       "    </tr>\n",
       "  </tbody>\n",
       "</table>\n",
       "</div>"
      ],
      "text/plain": [
       "   Age Sex      BP Cholesterol  Na_to_K   Drug\n",
       "0   23   F    HIGH        HIGH   25.355  DrugY\n",
       "1   47   M     LOW        HIGH   13.093  drugC\n",
       "2   47   M     LOW        HIGH   10.114  drugC\n",
       "3   28   F  NORMAL        HIGH    7.798  drugX\n",
       "4   61   F     LOW        HIGH   18.043  DrugY"
      ]
     },
     "execution_count": 2,
     "metadata": {},
     "output_type": "execute_result"
    }
   ],
   "source": [
    "drug = pd.read_csv(\"C:/Users/Yamini/OneDrive - Colosseum Group/Documents/datasets/drug_classification.csv\")\n",
    "drug.head()"
   ]
  },
  {
   "cell_type": "code",
   "execution_count": 3,
   "id": "c0ca36e8",
   "metadata": {},
   "outputs": [
    {
     "name": "stdout",
     "output_type": "stream",
     "text": [
      "Shape of the dataset: (200, 6)\n",
      "Columns of the dataset: Index(['Age', 'Sex', 'BP', 'Cholesterol', 'Na_to_K', 'Drug'], dtype='object')\n"
     ]
    }
   ],
   "source": [
    "print(\"Shape of the dataset:\", drug.shape)\n",
    "print(\"Columns of the dataset:\",drug.columns)"
   ]
  },
  {
   "cell_type": "code",
   "execution_count": 4,
   "id": "209661f8",
   "metadata": {},
   "outputs": [
    {
     "name": "stdout",
     "output_type": "stream",
     "text": [
      "<class 'pandas.core.frame.DataFrame'>\n",
      "RangeIndex: 200 entries, 0 to 199\n",
      "Data columns (total 6 columns):\n",
      " #   Column       Non-Null Count  Dtype  \n",
      "---  ------       --------------  -----  \n",
      " 0   Age          200 non-null    int64  \n",
      " 1   Sex          200 non-null    object \n",
      " 2   BP           200 non-null    object \n",
      " 3   Cholesterol  200 non-null    object \n",
      " 4   Na_to_K      200 non-null    float64\n",
      " 5   Drug         200 non-null    object \n",
      "dtypes: float64(1), int64(1), object(4)\n",
      "memory usage: 9.5+ KB\n"
     ]
    }
   ],
   "source": [
    "drug.info()"
   ]
  },
  {
   "cell_type": "markdown",
   "id": "78c241ee",
   "metadata": {},
   "source": [
    "**Observations**:\n",
    "- The dataset does not have null values.\n",
    "- 4 columns belong to object datatype, 1 column belongs to float and another column belong to int datatype."
   ]
  },
  {
   "cell_type": "code",
   "execution_count": 5,
   "id": "54b59018",
   "metadata": {},
   "outputs": [
    {
     "data": {
      "text/html": [
       "<div>\n",
       "<style scoped>\n",
       "    .dataframe tbody tr th:only-of-type {\n",
       "        vertical-align: middle;\n",
       "    }\n",
       "\n",
       "    .dataframe tbody tr th {\n",
       "        vertical-align: top;\n",
       "    }\n",
       "\n",
       "    .dataframe thead th {\n",
       "        text-align: right;\n",
       "    }\n",
       "</style>\n",
       "<table border=\"1\" class=\"dataframe\">\n",
       "  <thead>\n",
       "    <tr style=\"text-align: right;\">\n",
       "      <th></th>\n",
       "      <th>Age</th>\n",
       "      <th>Na_to_K</th>\n",
       "    </tr>\n",
       "  </thead>\n",
       "  <tbody>\n",
       "    <tr>\n",
       "      <th>count</th>\n",
       "      <td>200.000000</td>\n",
       "      <td>200.000000</td>\n",
       "    </tr>\n",
       "    <tr>\n",
       "      <th>mean</th>\n",
       "      <td>44.315000</td>\n",
       "      <td>16.084485</td>\n",
       "    </tr>\n",
       "    <tr>\n",
       "      <th>std</th>\n",
       "      <td>16.544315</td>\n",
       "      <td>7.223956</td>\n",
       "    </tr>\n",
       "    <tr>\n",
       "      <th>min</th>\n",
       "      <td>15.000000</td>\n",
       "      <td>6.269000</td>\n",
       "    </tr>\n",
       "    <tr>\n",
       "      <th>25%</th>\n",
       "      <td>31.000000</td>\n",
       "      <td>10.445500</td>\n",
       "    </tr>\n",
       "    <tr>\n",
       "      <th>50%</th>\n",
       "      <td>45.000000</td>\n",
       "      <td>13.936500</td>\n",
       "    </tr>\n",
       "    <tr>\n",
       "      <th>75%</th>\n",
       "      <td>58.000000</td>\n",
       "      <td>19.380000</td>\n",
       "    </tr>\n",
       "    <tr>\n",
       "      <th>max</th>\n",
       "      <td>74.000000</td>\n",
       "      <td>38.247000</td>\n",
       "    </tr>\n",
       "  </tbody>\n",
       "</table>\n",
       "</div>"
      ],
      "text/plain": [
       "              Age     Na_to_K\n",
       "count  200.000000  200.000000\n",
       "mean    44.315000   16.084485\n",
       "std     16.544315    7.223956\n",
       "min     15.000000    6.269000\n",
       "25%     31.000000   10.445500\n",
       "50%     45.000000   13.936500\n",
       "75%     58.000000   19.380000\n",
       "max     74.000000   38.247000"
      ]
     },
     "execution_count": 5,
     "metadata": {},
     "output_type": "execute_result"
    }
   ],
   "source": [
    "drug.describe()"
   ]
  },
  {
   "cell_type": "markdown",
   "id": "30ce860d",
   "metadata": {},
   "source": [
    "**Observations**:\n",
    "- 50% of the People belong to 45 years old. Minimun age is 15 and maximum age is 74 years old.\n",
    "- The average Sodium to Potassium Ration is 16.0844. Minimum ration is 6.269 and maximum ration is 38.247."
   ]
  },
  {
   "cell_type": "code",
   "execution_count": 6,
   "id": "cbf3f770",
   "metadata": {},
   "outputs": [
    {
     "data": {
      "text/plain": [
       "<matplotlib.lines.Line2D at 0x1e5e0d17df0>"
      ]
     },
     "execution_count": 6,
     "metadata": {},
     "output_type": "execute_result"
    },
    {
     "data": {
      "image/png": "[encoded data removed]",
      "text/plain": [
       "<Figure size 432x288 with 1 Axes>"
      ]
     },
     "metadata": {
      "needs_background": "light"
     },
     "output_type": "display_data"
    }
   ],
   "source": [
    "sns.distplot(drug[\"Age\"])\n",
    "plt.axvline(drug[\"Age\"].mean(),color = \"red\")\n",
    "plt.axvline(drug[\"Age\"].median(),color = \"blue\")"
   ]
  },
  {
   "cell_type": "code",
   "execution_count": 7,
   "id": "b6fb4564",
   "metadata": {},
   "outputs": [
    {
     "data": {
      "text/plain": [
       "<matplotlib.lines.Line2D at 0x1e5e0d17850>"
      ]
     },
     "execution_count": 7,
     "metadata": {},
     "output_type": "execute_result"
    },
    {
     "data": {
      "image/png": "[encoded data removed]",
      "text/plain": [
       "<Figure size 432x288 with 1 Axes>"
      ]
     },
     "metadata": {
      "needs_background": "light"
     },
     "output_type": "display_data"
    }
   ],
   "source": [
    "sns.distplot(drug[\"Na_to_K\"])\n",
    "plt.axvline(drug[\"Na_to_K\"].mean(),color = \"red\")\n",
    "plt.axvline(drug[\"Na_to_K\"].median(),color = \"blue\")"
   ]
  },
  {
   "cell_type": "code",
   "execution_count": 8,
   "id": "32b2f3ca",
   "metadata": {},
   "outputs": [
    {
     "data": {
      "text/plain": [
       "DrugY    91\n",
       "drugX    54\n",
       "drugA    23\n",
       "drugC    16\n",
       "drugB    16\n",
       "Name: Drug, dtype: int64"
      ]
     },
     "execution_count": 8,
     "metadata": {},
     "output_type": "execute_result"
    }
   ],
   "source": [
    "drug['Drug'].value_counts()"
   ]
  },
  {
   "cell_type": "code",
   "execution_count": 9,
   "id": "e152374a",
   "metadata": {},
   "outputs": [
    {
     "data": {
      "text/plain": [
       "M    104\n",
       "F     96\n",
       "Name: Sex, dtype: int64"
      ]
     },
     "execution_count": 9,
     "metadata": {},
     "output_type": "execute_result"
    }
   ],
   "source": [
    "drug['Sex'].value_counts()"
   ]
  },
  {
   "cell_type": "code",
   "execution_count": 10,
   "id": "4af0c924",
   "metadata": {},
   "outputs": [
    {
     "data": {
      "text/plain": [
       "HIGH      77\n",
       "LOW       64\n",
       "NORMAL    59\n",
       "Name: BP, dtype: int64"
      ]
     },
     "execution_count": 10,
     "metadata": {},
     "output_type": "execute_result"
    }
   ],
   "source": [
    "drug['BP'].value_counts()"
   ]
  },
  {
   "cell_type": "code",
   "execution_count": 11,
   "id": "6a45a5f1",
   "metadata": {},
   "outputs": [
    {
     "data": {
      "text/plain": [
       "HIGH      103\n",
       "NORMAL     97\n",
       "Name: Cholesterol, dtype: int64"
      ]
     },
     "execution_count": 11,
     "metadata": {},
     "output_type": "execute_result"
    }
   ],
   "source": [
    "drug['Cholesterol'].value_counts()"
   ]
  },
  {
   "cell_type": "markdown",
   "id": "1ca260bc",
   "metadata": {},
   "source": [
    "---\n",
    "<a name = Section4></a>\n",
    "### 4. Exploratory Data Analysis\n",
    "---"
   ]
  },
  {
   "cell_type": "code",
   "execution_count": 12,
   "id": "915c8e72",
   "metadata": {},
   "outputs": [
    {
     "data": {
      "text/plain": [
       "<AxesSubplot:>"
      ]
     },
     "execution_count": 12,
     "metadata": {},
     "output_type": "execute_result"
    },
    {
     "data": {
      "image/png": "[encoded data removed]",
      "text/plain": [
       "<Figure size 432x288 with 1 Axes>"
      ]
     },
     "metadata": {
      "needs_background": "light"
     },
     "output_type": "display_data"
    }
   ],
   "source": [
    "sns.boxplot(data = drug)"
   ]
  },
  {
   "cell_type": "markdown",
   "id": "8cca0d21",
   "metadata": {},
   "source": [
    "**Observations**: There are no outliers for **Age** but there are few outliers for **Na_to_K**."
   ]
  },
  {
   "cell_type": "code",
   "execution_count": 13,
   "id": "53924575",
   "metadata": {},
   "outputs": [
    {
     "data": {
      "text/plain": [
       "<seaborn.axisgrid.PairGrid at 0x1e5e171e070>"
      ]
     },
     "execution_count": 13,
     "metadata": {},
     "output_type": "execute_result"
    },
    {
     "data": {
      "image/png": "[encoded data removed]",
      "text/plain": [
       "<Figure size 360x360 with 6 Axes>"
      ]
     },
     "metadata": {
      "needs_background": "light"
     },
     "output_type": "display_data"
    }
   ],
   "source": [
    "sns.pairplot(data = drug)"
   ]
  },
  {
   "cell_type": "markdown",
   "id": "2f0755d2",
   "metadata": {},
   "source": [
    "**Countplot**"
   ]
  },
  {
   "cell_type": "code",
   "execution_count": 14,
   "id": "f559a8b2",
   "metadata": {},
   "outputs": [
    {
     "data": {
      "text/plain": [
       "<AxesSubplot:xlabel='Drug', ylabel='count'>"
      ]
     },
     "execution_count": 14,
     "metadata": {},
     "output_type": "execute_result"
    },
    {
     "data": {
      "image/png": "[encoded data removed]",
      "text/plain": [
       "<Figure size 432x288 with 1 Axes>"
      ]
     },
     "metadata": {
      "needs_background": "light"
     },
     "output_type": "display_data"
    }
   ],
   "source": [
    "sns.countplot(drug['Drug'])"
   ]
  },
  {
   "cell_type": "code",
   "execution_count": 15,
   "id": "7a57bdef",
   "metadata": {},
   "outputs": [
    {
     "data": {
      "text/plain": [
       "<AxesSubplot:xlabel='Sex', ylabel='count'>"
      ]
     },
     "execution_count": 15,
     "metadata": {},
     "output_type": "execute_result"
    },
    {
     "data": {
      "image/png": "[encoded data removed]",
      "text/plain": [
       "<Figure size 432x288 with 1 Axes>"
      ]
     },
     "metadata": {
      "needs_background": "light"
     },
     "output_type": "display_data"
    }
   ],
   "source": [
    "sns.countplot(drug['Sex'])"
   ]
  },
  {
   "cell_type": "code",
   "execution_count": 16,
   "id": "9c95acfc",
   "metadata": {},
   "outputs": [
    {
     "data": {
      "text/plain": [
       "<AxesSubplot:xlabel='BP', ylabel='count'>"
      ]
     },
     "execution_count": 16,
     "metadata": {},
     "output_type": "execute_result"
    },
    {
     "data": {
      "image/png": "[encoded data removed]",
      "text/plain": [
       "<Figure size 432x288 with 1 Axes>"
      ]
     },
     "metadata": {
      "needs_background": "light"
     },
     "output_type": "display_data"
    }
   ],
   "source": [
    "sns.countplot(x = drug['BP'])"
   ]
  },
  {
   "cell_type": "code",
   "execution_count": 17,
   "id": "a8ab934c",
   "metadata": {},
   "outputs": [
    {
     "data": {
      "text/plain": [
       "<AxesSubplot:xlabel='Cholesterol', ylabel='count'>"
      ]
     },
     "execution_count": 17,
     "metadata": {},
     "output_type": "execute_result"
    },
    {
     "data": {
      "image/png": "[encoded data removed]",
      "text/plain": [
       "<Figure size 432x288 with 1 Axes>"
      ]
     },
     "metadata": {
      "needs_background": "light"
     },
     "output_type": "display_data"
    }
   ],
   "source": [
    "sns.countplot(drug['Cholesterol'])"
   ]
  },
  {
   "cell_type": "markdown",
   "id": "b7e71683",
   "metadata": {},
   "source": [
    "1. What is the relationship between **Age**,**Sex** and **Drug** ?"
   ]
  },
  {
   "cell_type": "code",
   "execution_count": 18,
   "id": "38a173ef",
   "metadata": {},
   "outputs": [
    {
     "data": {
      "text/plain": [
       "<AxesSubplot:xlabel='Drug', ylabel='Age'>"
      ]
     },
     "execution_count": 18,
     "metadata": {},
     "output_type": "execute_result"
    },
    {
     "data": {
      "image/png": "[encoded data removed]",
      "text/plain": [
       "<Figure size 432x288 with 1 Axes>"
      ]
     },
     "metadata": {
      "needs_background": "light"
     },
     "output_type": "display_data"
    }
   ],
   "source": [
    "sns.barplot(x = \"Drug\",y = \"Age\", data = drug, hue = \"Sex\")"
   ]
  },
  {
   "cell_type": "markdown",
   "id": "213ede45",
   "metadata": {},
   "source": [
    "2. What is the relationship between **Na_to_k**, **Cholesterol** and **Drug** ?"
   ]
  },
  {
   "cell_type": "code",
   "execution_count": 19,
   "id": "6e2c50f2",
   "metadata": {},
   "outputs": [
    {
     "data": {
      "text/plain": [
       "<AxesSubplot:xlabel='Drug', ylabel='Na_to_K'>"
      ]
     },
     "execution_count": 19,
     "metadata": {},
     "output_type": "execute_result"
    },
    {
     "data": {
      "image/png": "[encoded data removed]",
      "text/plain": [
       "<Figure size 432x288 with 1 Axes>"
      ]
     },
     "metadata": {
      "needs_background": "light"
     },
     "output_type": "display_data"
    }
   ],
   "source": [
    "sns.barplot(x = \"Drug\", y = \"Na_to_K\", data = drug, hue=\"Cholesterol\") "
   ]
  },
  {
   "cell_type": "markdown",
   "id": "2fe5f7c5",
   "metadata": {},
   "source": [
    "**Label Encoding**"
   ]
  },
  {
   "cell_type": "code",
   "execution_count": 20,
   "id": "c3867426",
   "metadata": {},
   "outputs": [],
   "source": [
    "from sklearn.preprocessing import LabelEncoder\n",
    "le = LabelEncoder()\n",
    "drug['Sex'] =le.fit_transform(drug[\"Sex\"])\n",
    "drug['BP'] = le.fit_transform(drug[\"BP\"])\n",
    "drug['Cholesterol'] = le.fit_transform(drug[\"Cholesterol\"])\n",
    "drug['Drug'] = le.fit_transform(drug[\"Drug\"])"
   ]
  },
  {
   "cell_type": "code",
   "execution_count": 21,
   "id": "631bca39",
   "metadata": {},
   "outputs": [
    {
     "name": "stdout",
     "output_type": "stream",
     "text": [
      "Shape of X (200, 5)\n",
      "Shape of y (200,)\n"
     ]
    }
   ],
   "source": [
    "X = drug.drop('Drug', axis = 1)\n",
    "y = drug['Drug']\n",
    "\n",
    "print(\"Shape of X\", X.shape)\n",
    "print(\"Shape of y\", y.shape)"
   ]
  },
  {
   "cell_type": "code",
   "execution_count": 22,
   "id": "ba578150",
   "metadata": {},
   "outputs": [],
   "source": [
    "from sklearn.model_selection import train_test_split\n",
    "X_train, X_test, y_train, y_test = train_test_split(X, y, test_size=0.33)"
   ]
  },
  {
   "cell_type": "markdown",
   "id": "2fbfa5dd",
   "metadata": {},
   "source": [
    "**Feature scaling**"
   ]
  },
  {
   "cell_type": "code",
   "execution_count": 23,
   "id": "64dc69c7",
   "metadata": {},
   "outputs": [],
   "source": [
    "from sklearn.preprocessing import StandardScaler\n",
    "scaler = StandardScaler()\n",
    "X_train.loc[:] = scaler.fit_transform(X_train)\n",
    "X_test = scaler.transform(X_test)"
   ]
  },
  {
   "cell_type": "markdown",
   "id": "be321d29",
   "metadata": {},
   "source": [
    "---\n",
    "<a name = Section5></a>\n",
    "### 5. **Model development and Evaluation**\n",
    "---"
   ]
  },
  {
   "cell_type": "code",
   "execution_count": 24,
   "id": "3a807f64",
   "metadata": {},
   "outputs": [
    {
     "data": {
      "text/plain": [
       "KNeighborsClassifier(metric='euclidean', n_neighbors=3)"
      ]
     },
     "execution_count": 24,
     "metadata": {},
     "output_type": "execute_result"
    }
   ],
   "source": [
    "from sklearn.neighbors import KNeighborsClassifier\n",
    "knn = KNeighborsClassifier(n_neighbors=3, metric = \"euclidean\")\n",
    "knn.fit(X_train,y_train)"
   ]
  },
  {
   "cell_type": "code",
   "execution_count": 25,
   "id": "daaa1253",
   "metadata": {},
   "outputs": [],
   "source": [
    "y_pred_train = knn.predict(X_train)"
   ]
  },
  {
   "cell_type": "code",
   "execution_count": 26,
   "id": "4b5106c5",
   "metadata": {},
   "outputs": [],
   "source": [
    "y_pred_test = knn.predict(X_test)"
   ]
  },
  {
   "cell_type": "code",
   "execution_count": 27,
   "id": "7b152e58",
   "metadata": {},
   "outputs": [
    {
     "name": "stdout",
     "output_type": "stream",
     "text": [
      "Train Accuracy: 0.9552238805970149\n",
      "Test Accuracy: 0.8484848484848485\n"
     ]
    }
   ],
   "source": [
    "from sklearn.metrics import accuracy_score\n",
    "\n",
    "train_accuracy = accuracy_score(y_train, y_pred_train)\n",
    "test_accuracy = accuracy_score(y_test, y_pred_test)\n",
    "\n",
    "print(\"Train Accuracy:\", train_accuracy)\n",
    "print(\"Test Accuracy:\", test_accuracy)"
   ]
  },
  {
   "cell_type": "markdown",
   "id": "8682d9c4",
   "metadata": {},
   "source": [
    "---\n",
    "<a name = Section5></a>\n",
    "### 6. Hyperparameter Tuning\n",
    "---"
   ]
  },
  {
   "cell_type": "code",
   "execution_count": 28,
   "id": "827aa11f",
   "metadata": {},
   "outputs": [],
   "source": [
    "param_grid_knn = {'n_neighbors':list(range(2,20)),\n",
    "                 'metric':['minkowski','euclidean','manhattan'],\n",
    "                 'algorithm':['auto', 'ball_tree', 'kd_tree', 'brute'],\n",
    "                 'p':list(range(1,6)),\n",
    "                 'weights':['uniform','distance']}"
   ]
  },
  {
   "cell_type": "code",
   "execution_count": 29,
   "id": "7717b145",
   "metadata": {},
   "outputs": [],
   "source": [
    "from sklearn.model_selection import GridSearchCV\n",
    "\n",
    "best_scores = []\n",
    "best_params = []\n",
    "\n",
    "\n",
    "clf = KNeighborsClassifier(n_jobs = -1)\n",
    "cv = GridSearchCV(estimator = clf, param_grid = param_grid_knn, cv = 5)\n",
    "cv.fit(X_train,y_train)\n",
    "best_scores.append(cv.best_score_)\n",
    "best_params.append(cv.best_params_)"
   ]
  },
  {
   "cell_type": "code",
   "execution_count": 30,
   "id": "274c5da6",
   "metadata": {},
   "outputs": [
    {
     "data": {
      "text/plain": [
       "[{'algorithm': 'auto',\n",
       "  'metric': 'minkowski',\n",
       "  'n_neighbors': 15,\n",
       "  'p': 1,\n",
       "  'weights': 'distance'}]"
      ]
     },
     "execution_count": 30,
     "metadata": {},
     "output_type": "execute_result"
    }
   ],
   "source": [
    "best_params"
   ]
  },
  {
   "cell_type": "code",
   "execution_count": 31,
   "id": "4bbec5d9",
   "metadata": {},
   "outputs": [
    {
     "name": "stdout",
     "output_type": "stream",
     "text": [
      "Train Accuracy: 1.0\n",
      "Test Accuracy: 0.8939393939393939\n"
     ]
    }
   ],
   "source": [
    "knn_tuned = KNeighborsClassifier(algorithm = 'auto',metric = 'minkowski',n_neighbors = 17,p = 1,weights =  'distance')\n",
    "knn_tuned.fit(X_train,y_train)\n",
    "y_pred_train_tuned = knn_tuned.predict(X_train)\n",
    "y_pred_test_tuned = knn_tuned.predict(X_test)\n",
    "\n",
    "train_accuracy_tuned = accuracy_score(y_train, y_pred_train_tuned)\n",
    "test_accuracy_tuned = accuracy_score(y_test, y_pred_test_tuned)\n",
    "\n",
    "print(\"Train Accuracy:\", train_accuracy_tuned)\n",
    "print(\"Test Accuracy:\", test_accuracy_tuned)"
   ]
  },
  {
   "cell_type": "markdown",
   "id": "b85550de",
   "metadata": {},
   "source": [
    "---\n",
    "<a name = Section7></a>\n",
    "### 7 .Conclusion\n",
    "---\n",
    "- After Comparison between **with and without hyperparameter tuning**, The performance of KNN algorithm **without hyperparameter tuning is better than with hyperparameter tuning**.\n",
    "- After hyperparameter tuning, the KNN model seems to be overfitting.\n",
    "- **KNN model is predicting 84 % accurately** that the drug is for the required patient based on his Age, Sex, BP, Cholesterol and Na_to_K Variables."
   ]
  },
  {
   "cell_type": "code",
   "execution_count": null,
   "id": "a976eaaf",
   "metadata": {},
   "outputs": [],
   "source": []
  }
 ],
 "metadata": {
  "kernelspec": {
   "display_name": "sdk",
   "language": "python",
   "name": "sdk"
  },
  "language_info": {
   "codemirror_mode": {
    "name": "ipython",
    "version": 3
   },
   "file_extension": ".py",
   "mimetype": "text/x-python",
   "name": "python",
   "nbconvert_exporter": "python",
   "pygments_lexer": "ipython3",
   "version": "3.8.12"
  }
 },
 "nbformat": 4,
 "nbformat_minor": 5
}
